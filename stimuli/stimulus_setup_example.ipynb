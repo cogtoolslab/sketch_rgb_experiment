{
 "cells": [
  {
   "cell_type": "markdown",
   "metadata": {},
   "source": [
    "# Stimuli and session template setup example notebook\n",
    "This notebook provides a minimal example on how to set up the stimuli and upload the sequence of trials to the database."
   ]
  },
  {
   "cell_type": "code",
   "execution_count": 1,
   "metadata": {
    "execution": {
     "iopub.execute_input": "2022-10-17T20:46:31.141566Z",
     "iopub.status.busy": "2022-10-17T20:46:31.141332Z",
     "iopub.status.idle": "2022-10-17T20:46:31.749510Z",
     "shell.execute_reply": "2022-10-17T20:46:31.749040Z",
     "shell.execute_reply.started": "2022-10-17T20:46:31.141496Z"
    },
    "tags": []
   },
   "outputs": [],
   "source": [
    "from upload_to_s3 import upload_stim_to_s3, get_filepaths\n",
    "from experiment_config import experiment_setup\n",
    "import pandas as pd\n",
    "import os\n",
    "import glob"
   ]
  },
  {
   "cell_type": "markdown",
   "metadata": {},
   "source": [
    "Set the names for the experiment and the iteration."
   ]
  },
  {
   "cell_type": "code",
   "execution_count": 2,
   "metadata": {
    "execution": {
     "iopub.execute_input": "2022-10-17T20:46:32.860782Z",
     "iopub.status.busy": "2022-10-17T20:46:32.860492Z",
     "iopub.status.idle": "2022-10-17T20:46:32.866336Z",
     "shell.execute_reply": "2022-10-17T20:46:32.865595Z",
     "shell.execute_reply.started": "2022-10-17T20:46:32.860748Z"
    },
    "tags": []
   },
   "outputs": [
    {
     "name": "stdout",
     "output_type": "stream",
     "text": [
      "test_split\n"
     ]
    }
   ],
   "source": [
    "PROJECT = \"sketch_rgb\"\n",
    "DATASET = \"sketchy\"\n",
    "ITERATION = \"test1\"\n",
    "EXPERIMENT = \"test_split\"\n",
    "print(EXPERIMENT)"
   ]
  },
  {
   "cell_type": "markdown",
   "metadata": {},
   "source": [
    "## Provide metadata and locations of the stimuli files\n",
    "for a simple data directory with all to-be-uploaded files in one directory,  data_path is in the form /path/to/your/data\n",
    "    \n",
    "For a multi-level directory structure, you will need to use glob ** notation in data_path to index all the relevant files. something like:\n",
    "- `/path/to/your/files/**/*` (this finds all the files in your directory structure)\n",
    "- `/path/to/your/files/**/another_dir/*` (this finds all the files contained in all sub-directories named `another_dir`)\n",
    "- `/path/to/your/files/**/another_dir/*png` (this finds all the pngs contained in all sub-directories named `another_dir`)\n",
    "\n",
    "`bucket`: string, name of bucket to write to. Also specifies the name of the experiment in the input database.\\\n",
    "`pth_to_s3_credentials`: string, path to AWS credentials file\\\n",
    "`data_root`: string, root path for data to upload\\\n",
    "`data_path`: string, path in data_root to be included in upload\\\n",
    "`multilevel`: True for multilevel directory structures, False if all data is stored in one directory\n",
    "`fam_trial_ids`: list of strings, stim_id for familiarization stimuli\\\n",
    "`batch_set_size`: int, # of stimuli to be included in each batch. should be a multiple of overall stimulus set size"
   ]
  },
  {
   "cell_type": "markdown",
   "metadata": {},
   "source": [
    "The example data used in this example is taken from [Physion](https://github.com/cogtoolslab/physics-benchmarking-neurips2021). Download [Physion_Dominoes](https://physics-benchmarking-neurips2021-dataset.s3.amazonaws.com/Physion_Dominoes.zip) (25 MB), extract it and copy the folder into the `stimuli/` subfolder of the repository."
   ]
  },
  {
   "cell_type": "code",
   "execution_count": 3,
   "metadata": {
    "execution": {
     "iopub.execute_input": "2022-10-17T20:46:35.816739Z",
     "iopub.status.busy": "2022-10-17T20:46:35.816530Z",
     "iopub.status.idle": "2022-10-17T20:46:35.908969Z",
     "shell.execute_reply": "2022-10-17T20:46:35.908487Z",
     "shell.execute_reply.started": "2022-10-17T20:46:35.816718Z"
    },
    "tags": []
   },
   "outputs": [],
   "source": [
    "keypoint_meta = pd.read_csv(\"./sketchy_test_keypoint_meta.csv\", index_col=0)"
   ]
  },
  {
   "cell_type": "code",
   "execution_count": 4,
   "metadata": {
    "execution": {
     "iopub.execute_input": "2022-10-17T20:46:36.464701Z",
     "iopub.status.busy": "2022-10-17T20:46:36.464545Z",
     "iopub.status.idle": "2022-10-17T20:46:36.468268Z",
     "shell.execute_reply": "2022-10-17T20:46:36.467853Z",
     "shell.execute_reply.started": "2022-10-17T20:46:36.464682Z"
    },
    "tags": []
   },
   "outputs": [],
   "source": [
    "bucket = (PROJECT + \"_\" + DATASET).replace(\"_\",\"-\").lower() # bucket name on AWS S3 where stimuli where be stored. `_` is not allowed in bucket names\n",
    "pth_to_s3_credentials = \"../../.aws/credentials.json\" # local path to your aws credentials in JSON format. Pass None to use shared credentials file\n",
    "data_root = '/mnt/pentagon/xul076/' "
   ]
  },
  {
   "cell_type": "markdown",
   "metadata": {},
   "source": [
    "For reproducibility, fix the random seed"
   ]
  },
  {
   "cell_type": "code",
   "execution_count": 5,
   "metadata": {
    "execution": {
     "iopub.execute_input": "2022-10-17T20:45:56.020013Z",
     "iopub.status.busy": "2022-10-17T20:45:56.019739Z",
     "iopub.status.idle": "2022-10-17T20:45:56.024204Z",
     "shell.execute_reply": "2022-10-17T20:45:56.023482Z",
     "shell.execute_reply.started": "2022-10-17T20:45:56.019982Z"
    },
    "tags": []
   },
   "outputs": [],
   "source": [
    "import numpy as np\n",
    "np.random.seed(42)"
   ]
  },
  {
   "cell_type": "markdown",
   "metadata": {},
   "source": [
    "## Upload stimuli to S3\n",
    "We need to store the stimuli files in S3. This assumes that a bucket has already been created and the appropriate permissions have been set (the files need to be publicly available, as they are embedded by the web experiment.) \n",
    "\n",
    "Make sure that you have the appropriate credentials to upload to S3. \n",
    "\n",
    "Running this section will upload your stimuli files to the specified S3 bucket.\n",
    "\n",
    "Consider logging into the AWS console to make sure that the right files have been uploaded."
   ]
  },
  {
   "cell_type": "code",
   "execution_count": 6,
   "metadata": {
    "execution": {
     "iopub.execute_input": "2022-10-15T01:47:44.433659Z",
     "iopub.status.busy": "2022-10-15T01:47:44.433396Z",
     "iopub.status.idle": "2022-10-15T01:47:44.453793Z",
     "shell.execute_reply": "2022-10-15T01:47:44.453165Z",
     "shell.execute_reply.started": "2022-10-15T01:47:44.433629Z"
    },
    "tags": []
   },
   "outputs": [
    {
     "name": "stdout",
     "output_type": "stream",
     "text": [
      "1250 6250 7500 ['/mnt/pentagon/xul076/sketchy/rendered_256x256/256x256/photo/tx_000100000000/starfish/n02317335_2966.jpg', '/mnt/pentagon/xul076/sketchy/rendered_256x256/256x256/photo/tx_000100000000/kangaroo/n01877134_9443.jpg', '/mnt/pentagon/xul076/sketchy/rendered_256x256/256x256/photo/tx_000100000000/flower/n11939491_43188.jpg', '/mnt/pentagon/xul076/sketchy/rendered_256x256/256x256/photo/tx_000100000000/bee/n02206856_8187.jpg', '/mnt/pentagon/xul076/sketchy/rendered_256x256/256x256/photo/tx_000100000000/seal/n02077923_2092.jpg']\n"
     ]
    }
   ],
   "source": [
    "photo_paths = list(set(list(keypoint_meta[\"photo_path\"])))\n",
    "sketch_paths = list(set(list(keypoint_meta[\"sketch_path\"])))\n",
    "photo_paths = [os.path.join(data_root, x) for x in photo_paths]\n",
    "sketch_paths = [os.path.join(data_root, x) for x in sketch_paths]\n",
    "filepaths = photo_paths + sketch_paths\n",
    "print(len(photo_paths), len(sketch_paths), len(filepaths), filepaths[:5])"
   ]
  },
  {
   "cell_type": "code",
   "execution_count": 7,
   "metadata": {
    "execution": {
     "iopub.execute_input": "2022-10-15T01:47:45.115300Z",
     "iopub.status.busy": "2022-10-15T01:47:45.115073Z",
     "iopub.status.idle": "2022-10-15T01:58:46.232907Z",
     "shell.execute_reply": "2022-10-15T01:58:46.231954Z",
     "shell.execute_reply.started": "2022-10-15T01:47:45.115271Z"
    },
    "tags": []
   },
   "outputs": [
    {
     "name": "stdout",
     "output_type": "stream",
     "text": [
      "Bucket exists. Skipping creation.\n"
     ]
    },
    {
     "name": "stderr",
     "output_type": "stream",
     "text": [
      "100%|███████████████████████| 7500/7500 [10:59<00:00, 11.36it/s]"
     ]
    },
    {
     "name": "stdout",
     "output_type": "stream",
     "text": [
      "Done\n"
     ]
    },
    {
     "name": "stderr",
     "output_type": "stream",
     "text": [
      "\n"
     ]
    }
   ],
   "source": [
    "# upload dataset to aws s3\n",
    "upload_stim_to_s3(bucket, \n",
    "                  pth_to_s3_credentials, \n",
    "                  filepaths,\n",
    "                  s3_keep_path_block=4,\n",
    "                  overwrite=False)"
   ]
  },
  {
   "cell_type": "code",
   "execution_count": 5,
   "metadata": {
    "execution": {
     "iopub.execute_input": "2022-10-17T20:46:53.613491Z",
     "iopub.status.busy": "2022-10-17T20:46:53.613174Z",
     "iopub.status.idle": "2022-10-17T20:47:00.970642Z",
     "shell.execute_reply": "2022-10-17T20:47:00.969930Z",
     "shell.execute_reply.started": "2022-10-17T20:46:53.613443Z"
    }
   },
   "outputs": [
    {
     "name": "stdout",
     "output_type": "stream",
     "text": [
      "Bucket exists. Skipping creation.\n"
     ]
    },
    {
     "name": "stderr",
     "output_type": "stream",
     "text": [
      "100%|████████████████████████████████| 16/16 [00:06<00:00,  2.64it/s]"
     ]
    },
    {
     "name": "stdout",
     "output_type": "stream",
     "text": [
      "Done\n"
     ]
    },
    {
     "name": "stderr",
     "output_type": "stream",
     "text": [
      "\n"
     ]
    }
   ],
   "source": [
    "# upload dataset to aws s3\n",
    "upload_stim_to_s3(bucket, \n",
    "                  pth_to_s3_credentials, \n",
    "                  glob.glob(\"/mnt/pentagon/xul076/sketchy/familiar/*\"),\n",
    "                  s3_keep_path_block=4,\n",
    "                  overwrite=False)"
   ]
  },
  {
   "cell_type": "code",
   "execution_count": null,
   "metadata": {},
   "outputs": [],
   "source": []
  }
 ],
 "metadata": {
  "kernelspec": {
   "display_name": "Python 3 (ipykernel)",
   "language": "python",
   "name": "python3"
  },
  "language_info": {
   "codemirror_mode": {
    "name": "ipython",
    "version": 3
   },
   "file_extension": ".py",
   "mimetype": "text/x-python",
   "name": "python",
   "nbconvert_exporter": "python",
   "pygments_lexer": "ipython3",
   "version": "3.9.12"
  },
  "vscode": {
   "interpreter": {
    "hash": "7d490802aa9a2e5a123340609c5ae4c60c09c9e951ad0b74d9d85b02a78902d9"
   }
  },
  "widgets": {
   "application/vnd.jupyter.widget-state+json": {
    "state": {},
    "version_major": 2,
    "version_minor": 0
   }
  }
 },
 "nbformat": 4,
 "nbformat_minor": 4
}
