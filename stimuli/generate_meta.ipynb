{
 "cells": [
  {
   "cell_type": "code",
   "execution_count": 10,
   "id": "827eaf31-893d-457f-ab6d-c079f9b6a3e0",
   "metadata": {
    "execution": {
     "iopub.execute_input": "2022-10-12T19:34:42.631694Z",
     "iopub.status.busy": "2022-10-12T19:34:42.631388Z",
     "iopub.status.idle": "2022-10-12T19:34:42.636889Z",
     "shell.execute_reply": "2022-10-12T19:34:42.635950Z",
     "shell.execute_reply.started": "2022-10-12T19:34:42.631664Z"
    },
    "tags": []
   },
   "outputs": [],
   "source": [
    "import glob\n",
    "import os\n",
    "import pandas as pd\n",
    "import numpy as np"
   ]
  },
  {
   "cell_type": "code",
   "execution_count": 18,
   "id": "290e7056-bb4f-4bbc-9eb5-ad36d61284df",
   "metadata": {
    "execution": {
     "iopub.execute_input": "2022-10-12T19:50:45.464088Z",
     "iopub.status.busy": "2022-10-12T19:50:45.463782Z",
     "iopub.status.idle": "2022-10-12T19:50:45.658974Z",
     "shell.execute_reply": "2022-10-12T19:50:45.657983Z",
     "shell.execute_reply.started": "2022-10-12T19:50:45.464058Z"
    },
    "tags": []
   },
   "outputs": [],
   "source": [
    "photos = glob.glob(\"/mnt/pentagon/Sketchy/test/photo/*.jpg\")\n",
    "sketches = glob.glob(\"/mnt/pentagon/Sketchy/test/sketch_with_keypoint/*.jpg\")\n",
    "photos = [os.path.basename(x) for x in photos]\n",
    "sketches = [os.path.basename(x) for x in sketches]"
   ]
  },
  {
   "cell_type": "code",
   "execution_count": null,
   "id": "96360f5b-8dc2-4a0f-bf1e-904dedff7757",
   "metadata": {
    "tags": []
   },
   "outputs": [],
   "source": [
    "photos = pd.DataFrame(photos, columns=[\"photo\"])\n",
    "photos\n",
    "photos[[\"class\", \"photo_idx\"]] = photos[\"photo\"].str.split(\"_\")"
   ]
  },
  {
   "cell_type": "code",
   "execution_count": 16,
   "id": "070e9777-0c96-4058-81aa-f58352b1d733",
   "metadata": {
    "execution": {
     "iopub.execute_input": "2022-10-12T19:49:11.569465Z",
     "iopub.status.busy": "2022-10-12T19:49:11.569209Z",
     "iopub.status.idle": "2022-10-12T19:49:11.580230Z",
     "shell.execute_reply": "2022-10-12T19:49:11.579443Z",
     "shell.execute_reply.started": "2022-10-12T19:49:11.569436Z"
    },
    "tags": []
   },
   "outputs": [
    {
     "data": {
      "text/html": [
       "<div>\n",
       "<style scoped>\n",
       "    .dataframe tbody tr th:only-of-type {\n",
       "        vertical-align: middle;\n",
       "    }\n",
       "\n",
       "    .dataframe tbody tr th {\n",
       "        vertical-align: top;\n",
       "    }\n",
       "\n",
       "    .dataframe thead th {\n",
       "        text-align: right;\n",
       "    }\n",
       "</style>\n",
       "<table border=\"1\" class=\"dataframe\">\n",
       "  <thead>\n",
       "    <tr style=\"text-align: right;\">\n",
       "      <th></th>\n",
       "      <th>0</th>\n",
       "    </tr>\n",
       "  </thead>\n",
       "  <tbody>\n",
       "    <tr>\n",
       "      <th>0</th>\n",
       "      <td>windmill_84.jpg</td>\n",
       "    </tr>\n",
       "    <tr>\n",
       "      <th>1</th>\n",
       "      <td>saxophone_92.jpg</td>\n",
       "    </tr>\n",
       "    <tr>\n",
       "      <th>2</th>\n",
       "      <td>alarm_clock_85.jpg</td>\n",
       "    </tr>\n",
       "    <tr>\n",
       "      <th>3</th>\n",
       "      <td>pistol_92.jpg</td>\n",
       "    </tr>\n",
       "    <tr>\n",
       "      <th>4</th>\n",
       "      <td>duck_81.jpg</td>\n",
       "    </tr>\n",
       "    <tr>\n",
       "      <th>...</th>\n",
       "      <td>...</td>\n",
       "    </tr>\n",
       "    <tr>\n",
       "      <th>2495</th>\n",
       "      <td>racket_94.jpg</td>\n",
       "    </tr>\n",
       "    <tr>\n",
       "      <th>2496</th>\n",
       "      <td>eyeglasses_80.jpg</td>\n",
       "    </tr>\n",
       "    <tr>\n",
       "      <th>2497</th>\n",
       "      <td>rocket_83.jpg</td>\n",
       "    </tr>\n",
       "    <tr>\n",
       "      <th>2498</th>\n",
       "      <td>shoe_80.jpg</td>\n",
       "    </tr>\n",
       "    <tr>\n",
       "      <th>2499</th>\n",
       "      <td>hammer_82.jpg</td>\n",
       "    </tr>\n",
       "  </tbody>\n",
       "</table>\n",
       "<p>2500 rows × 1 columns</p>\n",
       "</div>"
      ],
      "text/plain": [
       "                       0\n",
       "0        windmill_84.jpg\n",
       "1       saxophone_92.jpg\n",
       "2     alarm_clock_85.jpg\n",
       "3          pistol_92.jpg\n",
       "4            duck_81.jpg\n",
       "...                  ...\n",
       "2495       racket_94.jpg\n",
       "2496   eyeglasses_80.jpg\n",
       "2497       rocket_83.jpg\n",
       "2498         shoe_80.jpg\n",
       "2499       hammer_82.jpg\n",
       "\n",
       "[2500 rows x 1 columns]"
      ]
     },
     "execution_count": 16,
     "metadata": {},
     "output_type": "execute_result"
    }
   ],
   "source": [
    "photos"
   ]
  },
  {
   "cell_type": "code",
   "execution_count": null,
   "id": "f9829539-f063-48ec-b929-96929a16aade",
   "metadata": {},
   "outputs": [],
   "source": []
  }
 ],
 "metadata": {
  "kernelspec": {
   "display_name": "Python 3 (ipykernel)",
   "language": "python",
   "name": "python3"
  },
  "language_info": {
   "codemirror_mode": {
    "name": "ipython",
    "version": 3
   },
   "file_extension": ".py",
   "mimetype": "text/x-python",
   "name": "python",
   "nbconvert_exporter": "python",
   "pygments_lexer": "ipython3",
   "version": "3.9.12"
  },
  "widgets": {
   "application/vnd.jupyter.widget-state+json": {
    "state": {},
    "version_major": 2,
    "version_minor": 0
   }
  }
 },
 "nbformat": 4,
 "nbformat_minor": 5
}
